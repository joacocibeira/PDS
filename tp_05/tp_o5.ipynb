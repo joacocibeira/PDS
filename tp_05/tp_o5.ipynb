{
 "cells": [
  {
   "cell_type": "code",
   "execution_count": 31,
   "metadata": {},
   "outputs": [],
   "source": [
    "import numpy as np\n",
    "import matplotlib.pyplot as plt\n",
    "%matplotlib qt"
   ]
  },
  {
   "cell_type": "markdown",
   "metadata": {},
   "source": [
    "configuramos los parametros de la simulación"
   ]
  },
  {
   "cell_type": "code",
   "execution_count": 32,
   "metadata": {},
   "outputs": [],
   "source": [
    "N = 1000\n",
    "fs = 1000.0  # frecuencia de muestreo (Hz)\n",
    "ts = 1 / fs  # tiempo de muestreo\n",
    "df = fs / N  # resolución espectral\n",
    "A=2\n",
    "R = 200 # realizaciones, cantidad de experimentos\n"
   ]
  },
  {
   "cell_type": "code",
   "execution_count": 33,
   "metadata": {},
   "outputs": [],
   "source": [
    "def señal_experimental(A, omega_zero, N, fs, snr, R):\n",
    "    ts = 1 / fs\n",
    "    tt = np.linspace(0, (N - 1) * ts, N)\n",
    "    sig_pow = (A**2) / 2\n",
    "\n",
    "    noise_pow = sig_pow / 10**(snr/10)\n",
    "    n = np.random.normal(0,noise_pow, N)\n",
    "    fr = np.random.uniform(low=-0.5, high=0.5, size=R)\n",
    "\n",
    "    omega_one = (omega_zero + fr) * df\n",
    "\n",
    "    x = np.array([A * np.sin(2 * np.pi * o1 * tt) + n for o1 in omega_one])\n",
    "    x = np.array(x).transpose()\n",
    "    return x, noise_pow"
   ]
  },
  {
   "cell_type": "code",
   "execution_count": 34,
   "metadata": {},
   "outputs": [],
   "source": [
    "s_10db, pn_10db = señal_experimental(A=A, omega_zero=N/4, N=N, fs=fs, snr=10, R=R)\n",
    "s_3db, pn_3db = señal_experimental(A=A, omega_zero=N/4, N=N, fs=fs, snr=3, R=R)\n"
   ]
  },
  {
   "cell_type": "markdown",
   "metadata": {},
   "source": [
    "En el siguiente grafico podemos observar como la energía de nuestra señal se desparrama en el espectro en vez de estar concentrada como una delta, producto de que la frecuencia de nuestra señal (debido a que esta es una variable estocastica) no es multiplo entero de la densidad espectral, por lo cual la energía de la delta se reparte en los bins adyacentes."
   ]
  },
  {
   "cell_type": "code",
   "execution_count": 35,
   "metadata": {},
   "outputs": [
    {
     "name": "stderr",
     "output_type": "stream",
     "text": [
      "No artists with labels found to put in legend.  Note that artists whose label start with an underscore are ignored when legend() is called with no argument.\n",
      "No artists with labels found to put in legend.  Note that artists whose label start with an underscore are ignored when legend() is called with no argument.\n"
     ]
    }
   ],
   "source": [
    "ff = np.linspace(0, (N - 1) * df, N)\n",
    "\n",
    "ft_10db = (1 / N) * np.fft.fft(s_10db, axis=0)\n",
    "ft_3db = (1 / N) * np.fft.fft(s_3db, axis=0)\n",
    "\n",
    "# Calculate magnitude in dB\n",
    "magnitude_10db = 20 * np.log10(np.abs(ft_10db))\n",
    "magnitude_3db = 20 * np.log10(np.abs(ft_3db))\n",
    "\n",
    "# noise_floor_10db = 10 * np.log(pn_10db)\n",
    "# noise_floor_3db = 10 * np.log(pn_3db)\n",
    "\n",
    "fig, axs = plt.subplots(1, 2, figsize=(12, 5))  \n",
    "\n",
    "# Plot s_10db\n",
    "axs[0].plot(\n",
    "    ff[ff <= fs / 2],\n",
    "    magnitude_10db[ff <= fs / 2, :],\n",
    ")\n",
    "axs[0].set_title('s_10db Frequency Spectrum')\n",
    "axs[0].set_xlabel('Frequency (Hz)')\n",
    "axs[0].set_ylabel('Magnitude (dB)')\n",
    "\n",
    "# Add horizontal dotted line for noise floor\n",
    "# axs[0].axhline(noise_floor_10db, color='red', linestyle='--', label=f'Noise Floor: {noise_floor_10db:.2f} dB')\n",
    "axs[0].legend()\n",
    "\n",
    "# Plot s_3db\n",
    "axs[1].plot(\n",
    "    ff[ff <= fs / 2],\n",
    "    magnitude_3db[ff <= fs / 2, :],\n",
    ")\n",
    "axs[1].set_title('s_3db Frequency Spectrum')\n",
    "axs[1].set_xlabel('Frequency (Hz)')\n",
    "axs[1].set_ylabel('Magnitude (dB)')\n",
    "\n",
    "# Add horizontal dotted line for noise floor\n",
    "# axs[1].axhline(noise_floor_3db, color='red', linestyle='--', label=f'Noise Floor: {noise_floor_3db:.2f} dB')\n",
    "axs[1].legend()\n",
    "\n",
    "plt.tight_layout()\n",
    "plt.show()"
   ]
  },
  {
   "cell_type": "markdown",
   "metadata": {},
   "source": [
    "Definimos el estimador $\\hat{a}_1$ como el valor medio de las $R$ (realizaciones) muestras $X(N/4)$ (mitad de banda digital) de la DFT de la señal medida.\n",
    "\n",
    "$$\n",
    "\\hat{a}_{10} = \\left| X\\left(\\frac{N}{4}\\right) \\right|_{\\text{promedio}}\n",
    "$$\n",
    "\n",
    "El error relativo porcentual del estimador respecto a la potencia esperada de la señal $\\frac{A}{2}$ se define como:\n",
    "\n",
    "$$\n",
    "\\text{Error de } \\hat{a}_{10} = \\left( \\frac{\\left|\\frac{A}{2} - \\hat{a}_{10}\\right|}{\\frac{A}{2}} \\right) \\times 100\n",
    "$$\n",
    "\n",
    "Este estimador surge de fijar nuestro modelo de señal como una senoidal de frecuencia media $N/4$, por lo que esperamos ver a esta frecuencia $\\frac{1}{2}$ de la amplitud total de la señal, calculada como $\\frac{A}{2}$."
   ]
  },
  {
   "cell_type": "code",
   "execution_count": 36,
   "metadata": {},
   "outputs": [],
   "source": [
    "def a_10_hat_estimator_with_error(signal, A, N):\n",
    "    ft = (1 / N) * np.fft.fft(signal, axis=0)\n",
    "    a10_hat = abs(ft[int(N/4), :])\n",
    "    a10_hat_mean =  a10_hat.mean()\n",
    "    a10_hat_error = (abs((A/2) - a10_hat_mean)/(A/2)) * 100\n",
    "    return a10_hat, a10_hat_mean, a10_hat_error"
   ]
  },
  {
   "cell_type": "code",
   "execution_count": 37,
   "metadata": {},
   "outputs": [],
   "source": [
    "\n",
    "a10_hat_10db, a10_hat_mean_10db, a10_hat_error_10db = a_10_hat_estimator_with_error(s_10db,A, N)\n",
    "a10_hat_3db, a10_hat_mean_3db, a10_hat_error_3db = a_10_hat_estimator_with_error(s_3db,A, N)"
   ]
  },
  {
   "cell_type": "code",
   "execution_count": 38,
   "metadata": {},
   "outputs": [
    {
     "data": {
      "text/markdown": [
       "\n",
       "### Resultados para $s_{10dB}$\n",
       "\n",
       "El valor calculado del estimador $\\hat{a}_{10}$ es:\n",
       "\n",
       "$$\n",
       "\\hat{a}_{10} = 0.26091574748316493\n",
       "$$\n",
       "\n",
       "El error relativo porcentual del estimador respecto a la amplitud esperada de la señal $\\frac{A}{2}$ es:\n",
       "\n",
       "$$\n",
       "\\text{Error de } \\hat{a}_{10} = 73.91 \\, \\%\n",
       "$$\n",
       "\n",
       "### Resultados para $s_{3dB}$\n",
       "\n",
       "El valor calculado del estimador $\\hat{a}_{10}$ es:\n",
       "\n",
       "$$\n",
       "\\hat{a}_{10} = 0.2476619493744029\n",
       "$$\n",
       "\n",
       "El error relativo porcentual del estimador respecto a la amplitud esperada de la señal $\\frac{A}{2}$ es:\n",
       "\n",
       "$$\n",
       "\\text{Error de } \\hat{a}_{10} = 75.23 \\, \\%\n",
       "$$\n"
      ],
      "text/plain": [
       "<IPython.core.display.Markdown object>"
      ]
     },
     "metadata": {},
     "output_type": "display_data"
    }
   ],
   "source": [
    "from IPython.display import display, Markdown\n",
    "\n",
    "# Crear texto en Markdown para s_10db y s_3db\n",
    "markdown_text = f\"\"\"\n",
    "### Resultados para $s_{{10dB}}$\n",
    "\n",
    "El valor calculado del estimador $\\\\hat{{a}}_{{10}}$ es:\n",
    "\n",
    "$$\n",
    "\\\\hat{{a}}_{{10}} = {a10_hat_mean_10db}\n",
    "$$\n",
    "\n",
    "El error relativo porcentual del estimador respecto a la amplitud esperada de la señal $\\\\frac{{A}}{{2}}$ es:\n",
    "\n",
    "$$\n",
    "\\\\text{{Error de }} \\\\hat{{a}}_{{10}} = {a10_hat_error_10db:.2f} \\\\, \\\\%\n",
    "$$\n",
    "\n",
    "### Resultados para $s_{{3dB}}$\n",
    "\n",
    "El valor calculado del estimador $\\\\hat{{a}}_{{10}}$ es:\n",
    "\n",
    "$$\n",
    "\\\\hat{{a}}_{{10}} = {a10_hat_mean_3db}\n",
    "$$\n",
    "\n",
    "El error relativo porcentual del estimador respecto a la amplitud esperada de la señal $\\\\frac{{A}}{{2}}$ es:\n",
    "\n",
    "$$\n",
    "\\\\text{{Error de }} \\\\hat{{a}}_{{10}} = {a10_hat_error_3db:.2f} \\\\, \\\\%\n",
    "$$\n",
    "\"\"\"\n",
    "\n",
    "# Mostrar el Markdown con las variables\n",
    "display(Markdown(markdown_text))"
   ]
  },
  {
   "cell_type": "code",
   "execution_count": 39,
   "metadata": {},
   "outputs": [],
   "source": [
    "import matplotlib.pyplot as plt\n",
    "import numpy as np\n",
    "\n",
    "# Magnitudes for 10dB and 3dB signals\n",
    "magnitude_10db = np.log(np.abs(a10_hat_10db))\n",
    "magnitude_3db = np.log(np.abs(a10_hat_3db))\n",
    "\n",
    "# Calculate statistics for both\n",
    "mean_10db = np.mean(magnitude_10db)\n",
    "\n",
    "mean_3db = np.mean(magnitude_3db)\n",
    "\n",
    "# Create subplots\n",
    "fig, axs = plt.subplots(1, 2, figsize=(12, 5))\n",
    "\n",
    "# Plot for 10dB\n",
    "axs[0].hist(magnitude_10db, bins=15, color='skyblue', edgecolor='black')\n",
    "axs[0].axvline(mean_10db, color='red', linestyle='dashed', linewidth=1, label=f'Mean: {mean_10db:.2f}')\n",
    "axs[0].set_title('â1 for 10dB SNR')\n",
    "axs[0].set_xlabel('Magnitude DB')\n",
    "axs[0].set_ylabel('Frequency')\n",
    "axs[0].legend()\n",
    "\n",
    "# Plot for 3dB\n",
    "axs[1].hist(magnitude_3db, bins=15, color='lightcoral', edgecolor='black')\n",
    "axs[1].axvline(mean_3db, color='red', linestyle='dashed', linewidth=1, label=f'Mean: {mean_3db:.2f}')\n",
    "axs[1].set_title('â1 for 3dB SNR')\n",
    "axs[1].set_xlabel('Magnitude DB')\n",
    "axs[1].set_ylabel('Frequency')\n",
    "axs[1].legend()\n",
    "\n",
    "plt.tight_layout()\n",
    "plt.show()"
   ]
  },
  {
   "cell_type": "markdown",
   "metadata": {},
   "source": [
    "### Estimador Ω̂\n",
    "\n",
    "$$\n",
    "\\hat{\\Omega}_1 = \\arg \\max_{\\Omega} \\left\\{ |X(\\Omega)| \\right\\}\n",
    "$$\n",
    "\n",
    "Con este pretendemos estimar no la potencia sino la frecuencia fundamental de la señal medida."
   ]
  },
  {
   "cell_type": "code",
   "execution_count": 40,
   "metadata": {},
   "outputs": [],
   "source": [
    "def omega_hat_estimator(signal, N):\n",
    "    ft = (1 / N) * np.fft.fft(signal, axis=0)\n",
    "    digital_band = int(N/2)\n",
    "    ft = ft[:digital_band, :]\n",
    "    omega_hat = np.argmax(np.abs(ft), axis=0)\n",
    "    return omega_hat"
   ]
  },
  {
   "cell_type": "code",
   "execution_count": 41,
   "metadata": {},
   "outputs": [],
   "source": [
    "omega_hat_10db = omega_hat_estimator(s_10db, N)\n",
    "omega_hat_3db = omega_hat_estimator(s_3db, N)"
   ]
  },
  {
   "cell_type": "code",
   "execution_count": 42,
   "metadata": {},
   "outputs": [],
   "source": [
    "\n",
    "# Calculate statistics for both\n",
    "mean_10db = np.mean(omega_hat_10db)\n",
    "mean_3db = np.mean(omega_hat_3db)\n",
    "\n",
    "# Create subplots\n",
    "fig, axs = plt.subplots(1, 2, figsize=(12, 5))\n",
    "\n",
    "# Plot for 10dB\n",
    "axs[0].hist(omega_hat_10db, bins=15, color='skyblue', edgecolor='black')\n",
    "axs[0].axvline(mean_10db, color='red', linestyle='dashed', linewidth=1, label=f'Mean: {mean_10db:.2f}')\n",
    "axs[0].set_title('â1 for 10dB SNR')\n",
    "axs[0].set_xlabel('Magnitude DB')\n",
    "axs[0].set_ylabel('Frequency')\n",
    "axs[0].legend()\n",
    "\n",
    "# Plot for 3dB\n",
    "axs[1].hist(omega_hat_3db, bins=15, color='lightcoral', edgecolor='black')\n",
    "axs[1].axvline(mean_3db, color='red', linestyle='dashed', linewidth=1, label=f'Mean: {mean_3db:.2f}')\n",
    "axs[1].set_title('â1 for 3dB SNR')\n",
    "axs[1].set_xlabel('Magnitude DB')\n",
    "axs[1].set_ylabel('Frequency')\n",
    "axs[1].legend()\n",
    "\n",
    "plt.tight_layout()\n",
    "plt.show()"
   ]
  },
  {
   "cell_type": "code",
   "execution_count": null,
   "metadata": {},
   "outputs": [],
   "source": []
  }
 ],
 "metadata": {
  "kernelspec": {
   "display_name": "dsp_env",
   "language": "python",
   "name": "python3"
  },
  "language_info": {
   "codemirror_mode": {
    "name": "ipython",
    "version": 3
   },
   "file_extension": ".py",
   "mimetype": "text/x-python",
   "name": "python",
   "nbconvert_exporter": "python",
   "pygments_lexer": "ipython3",
   "version": "3.8.19"
  }
 },
 "nbformat": 4,
 "nbformat_minor": 2
}

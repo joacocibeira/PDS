{
 "cells": [
  {
   "cell_type": "code",
   "execution_count": 62,
   "metadata": {},
   "outputs": [],
   "source": [
    "import numpy as np\n",
    "import matplotlib.pyplot as plt\n",
    "from utils.signal_generator import mi_funcion_cos, mi_funcion_sen\n",
    "%matplotlib qt5"
   ]
  },
  {
   "cell_type": "code",
   "execution_count": 63,
   "metadata": {},
   "outputs": [],
   "source": [
    "def mi_funcion_DFT(signal: np.ndarray) -> np.ndarray:\n",
    "    N = len(signal)\n",
    "    n = np.arange(N)\n",
    "    k = n.reshape((N, 1))\n",
    "    exponent = -1j * 2 * np.pi * k * n / N\n",
    "    w = np.exp(exponent)\n",
    "    return np.dot(signal, w)"
   ]
  },
  {
   "cell_type": "code",
   "execution_count": 64,
   "metadata": {},
   "outputs": [],
   "source": [
    "N=8000\n",
    "fs = 8000\n",
    "f = 2000\n",
    "tt, xx = mi_funcion_sen(vmax=2, dc=0, ff=f, ph=0, nn=N, fs=fs)"
   ]
  },
  {
   "cell_type": "code",
   "execution_count": 65,
   "metadata": {},
   "outputs": [
    {
     "data": {
      "text/plain": [
       "[<matplotlib.lines.Line2D at 0x1663ec370>]"
      ]
     },
     "execution_count": 65,
     "metadata": {},
     "output_type": "execute_result"
    }
   ],
   "source": [
    "T = 1 / f\n",
    "df = 1 / fs\n",
    "one_period_n = int(T / df)\n",
    "p = 5\n",
    "p_periods_tt = tt[:one_period_n*p]\n",
    "p_periods_xx = xx[:one_period_n*p]\n",
    "\n",
    "plt.plot(p_periods_tt, p_periods_xx)"
   ]
  },
  {
   "cell_type": "code",
   "execution_count": 66,
   "metadata": {},
   "outputs": [],
   "source": [
    "XX = (1/N) * mi_funcion_DFT(xx)"
   ]
  },
  {
   "cell_type": "code",
   "execution_count": 67,
   "metadata": {},
   "outputs": [],
   "source": [
    "modulo =  np.abs(XX)\n",
    "fase = np.angle(XX)"
   ]
  },
  {
   "cell_type": "code",
   "execution_count": 68,
   "metadata": {},
   "outputs": [],
   "source": [
    "# frecuencias de analysis (Lyons pag 62)\n",
    "n = np.arange(N)\n",
    "fa = (n*fs)/N\n",
    "\n"
   ]
  },
  {
   "cell_type": "code",
   "execution_count": 69,
   "metadata": {},
   "outputs": [],
   "source": [
    "T = 1 / f"
   ]
  },
  {
   "cell_type": "code",
   "execution_count": 70,
   "metadata": {},
   "outputs": [],
   "source": [
    "# Plotting\n",
    "fig, axs = plt.subplots(1, 2, figsize=(12, 5))  # Create 1 row and 2 columns of subplots\n",
    "\n",
    "# Plot magnitude\n",
    "axs[0].stem(fa, modulo, basefmt=\" \")\n",
    "axs[0].set_title(\"Magnitude (Module)\")\n",
    "axs[0].set_xlabel(\"Index\")\n",
    "axs[0].set_ylabel(\"Magnitude\")\n",
    "axs[0].grid(True)\n",
    "\n",
    "# Plot phase\n",
    "axs[1].stem(fa, fase, basefmt=\" \")\n",
    "axs[1].set_title(\"Phase (Angle)\")\n",
    "axs[1].set_xlabel(\"Index\")\n",
    "axs[1].set_ylabel(\"Phase [radians]\")\n",
    "axs[1].grid(True)\n",
    "\n",
    "# Adjust layout and show plot\n",
    "plt.tight_layout()\n",
    "plt.show()"
   ]
  },
  {
   "cell_type": "code",
   "execution_count": 71,
   "metadata": {},
   "outputs": [],
   "source": [
    "real = np.real(XX)\n",
    "im = np.imag(XX)"
   ]
  },
  {
   "cell_type": "code",
   "execution_count": 72,
   "metadata": {},
   "outputs": [],
   "source": [
    "fig, axs = plt.subplots(1, 2, figsize=(12, 5))  # Create 1 row and 2 columns of subplots\n",
    "\n",
    "# Plot magnitude\n",
    "axs[0].stem(fa, real, basefmt=\" \")\n",
    "axs[0].set_title(\"real\")\n",
    "axs[0].set_xlabel(\"Index\")\n",
    "axs[0].grid(True)\n",
    "\n",
    "# Plot phase\n",
    "axs[1].stem(fa, im, basefmt=\" \")\n",
    "axs[1].set_title(\"im \")\n",
    "axs[1].set_xlabel(\"Index\")\n",
    "axs[1].grid(True)\n",
    "\n",
    "# Adjust layout and show plot\n",
    "plt.tight_layout()\n",
    "plt.show()"
   ]
  },
  {
   "cell_type": "code",
   "execution_count": 79,
   "metadata": {},
   "outputs": [],
   "source": [
    "N=8000\n",
    "fs = 8000\n",
    "f1 = 2000\n",
    "f2 = 2000.25\n",
    "f3 = 2000.5\n",
    "tt, xx_1 = mi_funcion_sen(vmax=2, dc=0, ff=f1, ph=0, nn=N, fs=fs)\n",
    "tt, xx_2 = mi_funcion_sen(vmax=2, dc=0, ff=f2, ph=0, nn=N, fs=fs)\n",
    "tt, xx_3 = mi_funcion_sen(vmax=2, dc=0, ff=f3, ph=0, nn=N, fs=fs)"
   ]
  },
  {
   "cell_type": "code",
   "execution_count": 80,
   "metadata": {},
   "outputs": [],
   "source": [
    "XX_1= (1/N) * mi_funcion_DFT(xx_1)\n",
    "XX_2 = (1/N) * mi_funcion_DFT(xx_2)\n",
    "XX_3 = (1/N) * mi_funcion_DFT(xx_3)"
   ]
  },
  {
   "cell_type": "code",
   "execution_count": 81,
   "metadata": {},
   "outputs": [],
   "source": [
    "modulo_1 =  np.abs(XX_1)\n",
    "modulo_2 =  np.abs(XX_2)\n",
    "modulo_3 =  np.abs(XX_3)\n"
   ]
  },
  {
   "cell_type": "code",
   "execution_count": 83,
   "metadata": {},
   "outputs": [],
   "source": [
    "# Plotting\n",
    "fig, axs = plt.subplots(1, 1, figsize=(12, 5))  # Create 1 row and 2 columns of subplots\n",
    "\n",
    "# Plot magnitude for each set with different colors and labels\n",
    "axs.scatter(fa, 20 * np.log10(modulo_1), color='blue', label='Plot 1')\n",
    "axs.scatter(fa, 20 * np.log10(modulo_2), color='red', label='Plot 2')\n",
    "axs.scatter(fa, 20 * np.log10(modulo_3), color='green', label='Plot 3')\n",
    "\n",
    "# Set title and labels\n",
    "axs.set_title(\"Magnitude (Module) - 2000kHz\")\n",
    "axs.set_xlabel(\"Frequency (Hz)\")\n",
    "axs.set_ylabel(\"Magnitude (dB)\")\n",
    "axs.grid(True)\n",
    "\n",
    "# Add legend to differentiate between the plots\n",
    "axs.legend()\n",
    "\n",
    "# Adjust layout and show plot\n",
    "plt.tight_layout()\n",
    "plt.show()"
   ]
  },
  {
   "cell_type": "code",
   "execution_count": null,
   "metadata": {},
   "outputs": [],
   "source": []
  }
 ],
 "metadata": {
  "kernelspec": {
   "display_name": "dsp_env",
   "language": "python",
   "name": "python3"
  },
  "language_info": {
   "codemirror_mode": {
    "name": "ipython",
    "version": 3
   },
   "file_extension": ".py",
   "mimetype": "text/x-python",
   "name": "python",
   "nbconvert_exporter": "python",
   "pygments_lexer": "ipython3",
   "version": "3.8.19"
  }
 },
 "nbformat": 4,
 "nbformat_minor": 2
}

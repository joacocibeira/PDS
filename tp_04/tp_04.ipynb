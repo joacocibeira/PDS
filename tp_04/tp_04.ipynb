{
 "cells": [
  {
   "cell_type": "code",
   "execution_count": 1,
   "metadata": {},
   "outputs": [],
   "source": [
    "\n",
    "import numpy as np\n",
    "import matplotlib.pyplot as plt\n",
    "import scipy.signal as sig\n",
    "from utils.signal_generator import mi_funcion_sen \n"
   ]
  },
  {
   "cell_type": "code",
   "execution_count": 2,
   "metadata": {},
   "outputs": [],
   "source": [
    " \n",
    "# Datos generales de la simulación\n",
    "fs = 1000.0 # frecuencia de muestreo (Hz)\n",
    "N = 1000   # cantidad de muestras\n"
   ]
  },
  {
   "cell_type": "code",
   "execution_count": 3,
   "metadata": {},
   "outputs": [],
   "source": [
    " \n",
    "# cantidad de veces más densa que se supone la grilla temporal para tiempo \"continuo\"\n",
    "over_sampling = 4\n",
    "N_os = N*over_sampling\n"
   ]
  },
  {
   "cell_type": "code",
   "execution_count": 4,
   "metadata": {},
   "outputs": [],
   "source": [
    " \n",
    "# Datos del ADC\n",
    "B = 4 # bits\n",
    "Vf = 2 # Volts\n",
    "q = Vf/2**B # Volts\n"
   ]
  },
  {
   "cell_type": "code",
   "execution_count": 5,
   "metadata": {},
   "outputs": [],
   "source": [
    " \n",
    "# datos del ruido\n",
    "kn = 1\n",
    "pot_ruido = q**2/12 * kn # Watts (potencia de la señal 1 W)\n",
    " \n",
    "ts = 1/fs # tiempo de muestreo\n",
    "df = fs/N # resolución espectral\n"
   ]
  },
  {
   "cell_type": "code",
   "execution_count": 6,
   "metadata": {},
   "outputs": [],
   "source": [
    " \n",
    "#######################################################################################################################\n",
    "## Acá arranca la simulación\n",
    "tt = np.linspace(0, (N-1)*ts, N)\n",
    "tt_os = np.linspace(0, (N-1)*ts, N_os)\n",
    "\n",
    "ff = np.linspace(0, (N-1)*df, N)\n",
    "ff_os = np.linspace(0, (N_os-1)*df, N_os)\n",
    "\n",
    "\n",
    "analog_sig = np.sin( 2*np.pi*10*df*tt_os)\n",
    "analog_sig = analog_sig / np.sqrt(np.var(analog_sig))\n",
    "\n",
    "nn = np.random.normal(0, np.sqrt(pot_ruido), size=N_os)\n",
    "\n",
    "sr = analog_sig + nn\n",
    "\n",
    "srq  = q * np.round(sr /q)\n"
   ]
  },
  {
   "cell_type": "code",
   "execution_count": 7,
   "metadata": {},
   "outputs": [],
   "source": [
    "\n",
    "\n",
    "#######################################################################################################################\n",
    "## Presentación gráfica de los resultados\n",
    "plt.close('all')\n",
    " \n",
    "plt.figure(1, figsize=(12, 8))\n",
    "plt.plot(tt_os, srq, lw=2, label='$ s_Q = Q_{B,V_F}\\{s_R\\} $ (ADC out)')\n",
    "plt.plot(tt_os, sr, linestyle=':', color='green',marker='o', markersize=3, markerfacecolor='none', markeredgecolor='green', fillstyle='none', label='$ s_R = s + n $  (ADC in)')\n",
    "plt.plot(tt_os, analog_sig, color='orange', ls='dotted', label='$ s $ (analog)')\n",
    " \n",
    "plt.title('Señal muestreada por un ADC de {:d} bits - $\\pm V_R= $ {:3.1f} V - q = {:3.3f} V'.format(B, Vf, q) )\n",
    "plt.xlabel('tiempo [segundos]')\n",
    "plt.ylabel('Amplitud [V]')\n",
    "axes_hdl = plt.gca()\n",
    "axes_hdl.legend()\n",
    "plt.show()\n",
    " "
   ]
  },
  {
   "cell_type": "code",
   "execution_count": 8,
   "metadata": {},
   "outputs": [],
   "source": [
    "ft_Nq = 1/N_os*np.fft.fft(nn)\n",
    "ft_Nn = 1/N_os*np.fft.fft(nn)\n",
    "ft_SR = 1/N_os*np.fft.fft( sr)\n",
    "ft_Srq = 1/N_os*np.fft.fft( srq )\n",
    "ft_As = 1/N_os*np.fft.fft( analog_sig)\n",
    "\n",
    "\n",
    "Nnq_mean = np.mean(np.mean(np.abs(ft_Nq)**2))\n",
    "nNn_mean = np.mean(np.mean(np.abs(ft_Nn)**2))\n"
   ]
  },
  {
   "cell_type": "code",
   "execution_count": null,
   "metadata": {},
   "outputs": [],
   "source": [
    "len(ft_Srq)"
   ]
  },
  {
   "cell_type": "code",
   "execution_count": 9,
   "metadata": {},
   "outputs": [],
   "source": [
    "\n",
    "bfrec = ff <= fs/2\n",
    "plt.figure(2)\n",
    "\n",
    " \n",
    "Nnq_mean = np.mean(np.abs(ft_Nq)**2)\n",
    " \n",
    "plt.plot( ff[bfrec], 10* np.log10(2*np.abs(ft_Srq[ff_os <= fs/2])**2), lw=2, label='$ s_Q = Q_{B,V_F}\\{s_R\\} $ (ADC out)' )\n",
    "plt.plot( ff_os[ff_os <= fs/2], 10* np.log10(2*np.abs(ft_As[ff_os <= fs/2])**2), color='orange', ls='dotted', label='$ s $ (analog)' )\n",
    "plt.plot( ff[bfrec], 10* np.log10(2*np.abs(ft_SR[ff_os <= fs/2])**2), ':g', label='$ s_R = s + n $  (ADC in)' )\n",
    "plt.plot( ff_os[ff_os <= fs/2], 10* np.log10(2*np.abs(ft_Nn[ff_os <= fs/2])**2), ':r')\n",
    "plt.plot( ff[bfrec], 10* np.log10(2*np.abs(ft_Nq[ff_os <= fs/2])**2), ':c')\n",
    "plt.plot( np.array([ ff[bfrec][0], ff[bfrec][-1] ]), 10* np.log10(2* np.array([nNn_mean, nNn_mean]) ), '--r', label= '$ \\overline{n} = $' + '{:3.1f} dB (piso analog.)'.format(10* np.log10(2* nNn_mean)) )\n",
    "plt.plot( np.array([ ff[bfrec][0], ff[bfrec][-1] ]), 10* np.log10(2* np.array([Nnq_mean, Nnq_mean]) ), '--c', label='$ \\overline{n_Q} = $' + '{:3.1f} dB (piso digital)'.format(10* np.log10(2* Nnq_mean)) )\n",
    "plt.title('Señal muestreada por un ADC de {:d} bits - $\\pm V_R= $ {:3.1f} V - q = {:3.3f} V'.format(B, Vf, q) )\n",
    "plt.ylabel('Densidad de Potencia [dB]')\n",
    "plt.xlabel('Frecuencia [Hz]')\n",
    "axes_hdl = plt.gca()\n",
    "axes_hdl.legend()\n",
    "# suponiendo valores negativos de potencia ruido en dB\n",
    "plt.ylim((1.5*np.min(10* np.log10(2* np.array([Nnq_mean, nNn_mean]))),10))\n",
    " \n",
    " \n",
    "plt.figure(3)\n",
    "bins = 10\n",
    "plt.hist(nn, bins=bins)\n",
    "plt.plot( np.array([-q/2, -q/2, q/2, q/2]), np.array([0, N/bins, N/bins, 0]), '--r' )\n",
    "plt.title( 'Ruido de cuantización para {:d} bits - $\\pm V_R= $ {:3.1f} V - q = {:3.3f} V'.format(B, Vf, q))"
   ]
  },
  {
   "cell_type": "code",
   "execution_count": 42,
   "metadata": {},
   "outputs": [],
   "source": []
  },
  {
   "cell_type": "code",
   "execution_count": null,
   "metadata": {},
   "outputs": [],
   "source": []
  }
 ],
 "metadata": {
  "kernelspec": {
   "display_name": "dsp_env",
   "language": "python",
   "name": "python3"
  },
  "language_info": {
   "codemirror_mode": {
    "name": "ipython",
    "version": 3
   },
   "file_extension": ".py",
   "mimetype": "text/x-python",
   "name": "python",
   "nbconvert_exporter": "python",
   "pygments_lexer": "ipython3",
   "version": "3.8.19"
  }
 },
 "nbformat": 4,
 "nbformat_minor": 2
}
